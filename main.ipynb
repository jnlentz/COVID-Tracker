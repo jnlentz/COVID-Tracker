{
 "cells": [
  {
   "cell_type": "code",
   "execution_count": 15,
   "metadata": {},
   "outputs": [],
   "source": [
    "import plotly.express as px\n",
    "import dash\n",
    "import dash_core_components as dcc\n",
    "import dash_html_components as html\n",
    "from dash.dependencies import Input, Output\n",
    "import pandas as pd\n",
    "import matplotlib.pyplot as plt\n",
    "import seaborn as sns\n",
    "import datetime\n",
    "import numpy as np\n",
    "from sklearn.linear_model import LinearRegression\n",
    "from dash.dependencies import Input, Output\n"
   ]
  },
  {
   "cell_type": "code",
   "execution_count": 2,
   "metadata": {},
   "outputs": [],
   "source": [
    "def toDate(iDate):\n",
    "    sDate = str(iDate)\n",
    "    years = int(sDate[0:4])\n",
    "    months = int(sDate[4:6])\n",
    "    days = int(sDate[6:8])\n",
    "    date = datetime.datetime(years, months, days)\n",
    "    return date"
   ]
  },
  {
   "cell_type": "code",
   "execution_count": 3,
   "metadata": {},
   "outputs": [],
   "source": [
    "cd = pd.read_csv('covid_states - Sheet1.csv', error_bad_lines=False)\n",
    "sd = pd.read_csv('state_populations.csv', error_bad_lines=False)\n",
    "df_sort = cd.sort_index(ascending=True, axis=0)\n",
    "df = df_sort.groupby('state')"
   ]
  },
  {
   "cell_type": "code",
   "execution_count": 36,
   "metadata": {},
   "outputs": [
    {
     "name": "stdout",
     "output_type": "stream",
     "text": [
      "36      983.0\n",
      "92      953.0\n",
      "148     895.0\n",
      "204     918.0\n",
      "260     924.0\n",
      "        ...  \n",
      "7112      NaN\n",
      "7162      NaN\n",
      "7212      NaN\n",
      "7252      NaN\n",
      "7279      NaN\n",
      "Name: hospitalizedCurrently, Length: 132, dtype: float64\n"
     ]
    }
   ],
   "source": [
    "print(df.get_group('NV')['hospitalizedCurrently'])"
   ]
  },
  {
   "cell_type": "code",
   "execution_count": 34,
   "metadata": {},
   "outputs": [],
   "source": [
    "x = []\n",
    "y = []\n",
    "for date in df.get_group('NV')['date']:\n",
    "    x.append(toDate(date))\n",
    "    \n",
    "for positiveIncrease in df.get_group('NV')['hospitalizedCurrently']:\n",
    "    y.append(positiveIncrease)"
   ]
  },
  {
   "cell_type": "code",
   "execution_count": 35,
   "metadata": {},
   "outputs": [
    {
     "data": {
      "image/png": "[encoded data removed]",
      "text/plain": [
       "<Figure size 432x288 with 1 Axes>"
      ]
     },
     "metadata": {
      "needs_background": "light"
     },
     "output_type": "display_data"
    }
   ],
   "source": [
    "plt.plot_date(x, y)\n",
    "plt.show()"
   ]
  },
  {
   "cell_type": "code",
   "execution_count": null,
   "metadata": {},
   "outputs": [],
   "source": [
    "external_stylesheets = ['https://codepen.io/chriddyp/pen/bWLwgP.css']"
   ]
  }
 ],
 "metadata": {
  "kernelspec": {
   "display_name": "Python 3",
   "language": "python",
   "name": "python3"
  },
  "language_info": {
   "codemirror_mode": {
    "name": "ipython",
    "version": 3
   },
   "file_extension": ".py",
   "mimetype": "text/x-python",
   "name": "python",
   "nbconvert_exporter": "python",
   "pygments_lexer": "ipython3",
   "version": "3.7.6"
  }
 },
 "nbformat": 4,
 "nbformat_minor": 4
}
